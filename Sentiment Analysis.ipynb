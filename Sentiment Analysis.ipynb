{
 "cells": [
  {
   "cell_type": "code",
   "execution_count": 1,
   "metadata": {
    "collapsed": false,
    "deletable": true,
    "editable": true
   },
   "outputs": [],
   "source": [
    "from textblob import TextBlob\n",
    "import sys, tweepy\n",
    "import matplotlib.pyplot as plt\n",
    "import csv\n",
    "import re"
   ]
  },
  {
   "cell_type": "code",
   "execution_count": 2,
   "metadata": {
    "collapsed": false
   },
   "outputs": [],
   "source": [
    "class SentimentAnalysis:\n",
    "\n",
    "    def __init__(self):\n",
    "        self.tweets = []\n",
    "        self.tweetText = []\n",
    "\n",
    "\n",
    "    def DownloadData(self):\n",
    "\n",
    "            # authentication required\n",
    "            consumerKey = 'your key here'\n",
    "            consumerSecret = 'your key here'\n",
    "            accessToken = 'your key here'\n",
    "            accessTokenSecret = 'your key here'\n",
    "            auth = tweepy.OAuthHandler(consumerKey, consumerSecret)\n",
    "            auth.set_access_token(accessToken, accessTokenSecret)\n",
    "            api = tweepy.API(auth)\n",
    "\n",
    "            # input for term to be searched and how many tweets to search\n",
    "            searchTerm = input(\"Enter Keyword/Tag to search about: \")\n",
    "            NoOfTerms = int(input(\"Enter how many tweets to search: \"))\n",
    "\n",
    "            self.tweets = tweepy.Cursor(api.search, q=searchTerm, lang = \"en\").items(NoOfTerms)\n",
    "\n",
    "            # Open/create a file to append data to\n",
    "            csvFile = open('/home/ashish/Desktop/result.csv', 'a')\n",
    "\n",
    "            csvWriter = csv.writer(csvFile)\n",
    "\n",
    "             # creating some variables to store info\n",
    "            polarity = 0\n",
    "            positive = 0\n",
    "            wpositive = 0\n",
    "            spositive = 0\n",
    "            negative = 0\n",
    "            wnegative = 0\n",
    "            snegative = 0\n",
    "            neutral = 0\n",
    "\n",
    "                    # iterating through tweets fetched\n",
    "            for tweet in self.tweets:\n",
    "                #Append to temp so that we can store in csv later. I use encode UTF-8\n",
    "                self.tweetText.append(self.cleanTweet(tweet.text).encode('utf-8'))\n",
    "                # print (tweet.text.translate(non_bmp_map))    #print tweet's text\n",
    "                analysis = TextBlob(tweet.text)\n",
    "                # print(analysis.sentiment)  # print tweet's polarity\n",
    "                polarity += analysis.sentiment.polarity  # adding up polarities to find the average later\n",
    "\n",
    "                if (analysis.sentiment.polarity == 0):  # adding reaction of how people are reacting to find average later\n",
    "                    neutral += 1\n",
    "                elif (analysis.sentiment.polarity > 0 and analysis.sentiment.polarity <= 0.3):\n",
    "                    wpositive += 1\n",
    "                elif (analysis.sentiment.polarity > 0.3 and analysis.sentiment.polarity <= 0.6):\n",
    "                    positive += 1\n",
    "                elif (analysis.sentiment.polarity > 0.6 and analysis.sentiment.polarity <= 1):\n",
    "                    spositive += 1\n",
    "                elif (analysis.sentiment.polarity > -0.3 and analysis.sentiment.polarity <= 0):\n",
    "                    wnegative += 1\n",
    "                elif (analysis.sentiment.polarity > -0.6 and analysis.sentiment.polarity <= -0.3):\n",
    "                    negative += 1\n",
    "                elif (analysis.sentiment.polarity > -1 and analysis.sentiment.polarity <= -0.6):\n",
    "                    snegative += 1\n",
    "\n",
    "              # Write to csv and close csv file\n",
    "            csvWriter.writerow(self.tweetText)\n",
    "            csvFile.close() \n",
    "\n",
    "            # finding average of how people are reacting\n",
    "            positive = self.percentage(positive, NoOfTerms)\n",
    "            wpositive = self.percentage(wpositive, NoOfTerms)\n",
    "            spositive = self.percentage(spositive, NoOfTerms)\n",
    "            negative = self.percentage(negative, NoOfTerms)\n",
    "            wnegative = self.percentage(wnegative, NoOfTerms)\n",
    "            snegative = self.percentage(snegative, NoOfTerms)\n",
    "            neutral = self.percentage(neutral, NoOfTerms)\n",
    "\n",
    "             # finding average reaction\n",
    "            polarity = polarity / NoOfTerms\n",
    "\n",
    "             # printing out data\n",
    "            print(\"How people are reacting on \" + searchTerm + \" by analyzing \" + str(NoOfTerms) + \" tweets.\")\n",
    "            print()\n",
    "            print(\"General Report: \")\n",
    "\n",
    "            if (polarity == 0):\n",
    "                print(\"Neutral\")\n",
    "            elif (polarity > 0 and polarity <= 0.3):\n",
    "                print(\"Weakly Positive\")\n",
    "            elif (polarity > 0.3 and polarity <= 0.6):\n",
    "                print(\"Positive\")\n",
    "            elif (polarity > 0.6 and polarity <= 1):\n",
    "                print(\"Strongly Positive\")\n",
    "            elif (polarity > -0.3 and polarity <= 0):\n",
    "                print(\"Weakly Negative\")\n",
    "            elif (polarity > -0.6 and polarity <= -0.3):\n",
    "                print(\"Negative\")\n",
    "            elif (polarity > -1 and polarity <= -0.6):\n",
    "                print(\"Strongly Negative\")\n",
    "\n",
    "            print()\n",
    "            print(\"Detailed Report: \")\n",
    "            print(str(positive) + \"% people thought it was positive\")\n",
    "            print(str(wpositive) + \"% people thought it was weakly positive\")\n",
    "            print(str(spositive) + \"% people thought it was strongly positive\")\n",
    "            print(str(negative) + \"% people thought it was negative\")\n",
    "            print(str(wnegative) + \"% people thought it was weakly negative\")\n",
    "            print(str(snegative) + \"% people thought it was strongly negative\")\n",
    "            print(str(neutral) + \"% people thought it was neutral\")\n",
    "\n",
    "            self.plotPieChart(positive, wpositive, spositive, negative, wnegative, snegative, neutral, searchTerm, NoOfTerms)\n",
    "\n",
    "    def cleanTweet(self, tweet):\n",
    "        # Remove Links, Special Characters etc from tweet\n",
    "        return ' '.join(re.sub(\"(@[A-Za-z0-9]+)|([^0-9A-Za-z \\t]) | (\\w +:\\ / \\ / \\S +)\", \" \", tweet).split())\n",
    "\n",
    "    # function to calculate percentage\n",
    "    def percentage(self, part, whole):\n",
    "        temp = 100 * float(part) / float(whole)\n",
    "        return format(temp, '.2f')\n",
    "\n",
    "\n",
    "    def plotPieChart(self, positive, wpositive, spositive, negative, wnegative, snegative, neutral, searchTerm, noOfSearchTerms):\n",
    "\n",
    "        labels = ['Positive [' + str(positive) + '%]', 'Weakly Positive [' + str(wpositive) + '%]','Strongly Positive [' + str(spositive) + '%]', 'Neutral [' + str(neutral) + '%]',\n",
    "                      'Negative [' + str(negative) + '%]', 'Weakly Negative [' + str(wnegative) + '%]', 'Strongly Negative [' + str(snegative) + '%]']\n",
    "        sizes = [positive, wpositive, spositive, neutral, negative, wnegative, snegative]\n",
    "        colors = ['yellowgreen','lightgreen','darkgreen', 'gold', 'red','lightsalmon','darkred']\n",
    "        patches, texts = plt.pie(sizes, colors=colors, startangle=90)\n",
    "        plt.legend(patches, labels, loc=\"best\")\n",
    "        plt.title('How people are reacting on ' + searchTerm + ' by analyzing ' + str(noOfSearchTerms) + ' Tweets.')\n",
    "        plt.axis('equal')\n",
    "        plt.tight_layout()\n",
    "        plt.show()"
   ]
  },
  {
   "cell_type": "code",
   "execution_count": 3,
   "metadata": {
    "collapsed": false
   },
   "outputs": [
    {
     "name": "stdout",
     "output_type": "stream",
     "text": [
      "Enter Keyword/Tag to search about: elon musk\n",
      "Enter how many tweets to search: 1000\n",
      "How people are reacting on elon musk by analyzing 1000 tweets.\n",
      "\n",
      "General Report: \n",
      "Weakly Negative\n",
      "\n",
      "Detailed Report: \n",
      "8.10% people thought it was positive\n",
      "20.10% people thought it was weakly positive\n",
      "2.20% people thought it was strongly positive\n",
      "15.80% people thought it was negative\n",
      "12.30% people thought it was weakly negative\n",
      "1.10% people thought it was strongly negative\n",
      "40.20% people thought it was neutral\n"
     ]
    },
    {
     "data": {
      "image/png": "[encoded data removed]",
      "text/plain": [
       "<matplotlib.figure.Figure at 0x7f227c2b8b00>"
      ]
     },
     "metadata": {},
     "output_type": "display_data"
    }
   ],
   "source": [
    "if __name__== \"__main__\":\n",
    "    sa = SentimentAnalysis()\n",
    "    sa.DownloadData()"
   ]
  },
  {
   "cell_type": "code",
   "execution_count": null,
   "metadata": {
    "collapsed": true
   },
   "outputs": [],
   "source": [
    "    "
   ]
  },
  {
   "cell_type": "code",
   "execution_count": null,
   "metadata": {
    "collapsed": true
   },
   "outputs": [],
   "source": [
    "\n"
   ]
  },
  {
   "cell_type": "code",
   "execution_count": null,
   "metadata": {
    "collapsed": true
   },
   "outputs": [],
   "source": []
  },
  {
   "cell_type": "code",
   "execution_count": null,
   "metadata": {
    "collapsed": true
   },
   "outputs": [],
   "source": []
  }
 ],
 "metadata": {
  "kernelspec": {
   "display_name": "Python 3",
   "language": "python",
   "name": "python3"
  },
  "language_info": {
   "codemirror_mode": {
    "name": "ipython",
    "version": 3
   },
   "file_extension": ".py",
   "mimetype": "text/x-python",
   "name": "python",
   "nbconvert_exporter": "python",
   "pygments_lexer": "ipython3",
   "version": "3.5.2"
  }
 },
 "nbformat": 4,
 "nbformat_minor": 2
}
